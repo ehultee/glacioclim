{
 "cells": [
  {
   "cell_type": "markdown",
   "id": "f912972a-3642-4014-9622-56731dcb0581",
   "metadata": {},
   "source": [
    "# Plot CMIP6 ensemble for GRDC basins\n",
    "Make visual of ~110 simulations from the CMIP6 archive for SSP2-4.5.  Compare these with the 12 simulations chosen for standard glacier model forcing.\n",
    "\n",
    "29 Jan 2025 | EHU"
   ]
  },
  {
   "cell_type": "code",
   "execution_count": null,
   "id": "d75fd6ec-662f-4c5b-97f6-8024711a7bf4",
   "metadata": {},
   "outputs": [],
   "source": [
    "import datetime\n",
    "import os\n",
    "import glob\n",
    "import numpy as np\n",
    "import pandas as pd\n",
    "import matplotlib.pyplot as plt\n",
    "from scipy.io import loadmat"
   ]
  },
  {
   "cell_type": "code",
   "execution_count": null,
   "id": "0630e870-5d0d-4b6d-a64b-9ccff7f78ded",
   "metadata": {},
   "outputs": [],
   "source": [
    "## Define the filepath streamed from OneDrive\n",
    "fpath = '/Users/eultee/Library/CloudStorage/OneDrive-NASA/Documents/Runoff/'\n",
    "\n",
    "f_PCP = fpath+'CMIP-data/PrecipLizz/'\n",
    "f_T = fpath+'CMIP-data/TempLizz/'"
   ]
  },
  {
   "cell_type": "code",
   "execution_count": null,
   "id": "d8bf44b3-e755-4a9a-b085-c6b997bde409",
   "metadata": {},
   "outputs": [],
   "source": [
    "## Get the basin list in the order Sloan usually uses\n",
    "path_to_area = fpath+'BasinArea.mat' ## uploaded by Sloan\n",
    "BasinAreas = loadmat(path_to_area)\n",
    "#Creating indices a dataframe would use\n",
    "basin_areas = BasinAreas['BasinArea']\n",
    "basin_names = BasinAreas['BasinNam']\n",
    "basin_name_list = [name[1][0] for name in basin_names]\n",
    "\n",
    "revised_names = {'ISSYK-KUL': 'YSYK-KOL', 'LAGARFLIOT': 'LAGARFLJOT'}.get ## revise to align Sloan's names with Finn's spelling\n",
    "basin_name_list = [revised_names(n,n) for n in basin_name_list]\n",
    "\n",
    "basin_names=basin_name_list ## just to make sure to get them all\n",
    "\n",
    "TotalBasinAreas = pd.DataFrame({'Basin Area': basin_areas.squeeze()}, index=basin_name_list).sort_index() ## required for unit conversion later"
   ]
  },
  {
   "cell_type": "markdown",
   "id": "8e387ddf-cca2-4af4-8c20-bb58ed7e05b1",
   "metadata": {},
   "source": [
    "## Load in all GCMs from the ensemble"
   ]
  },
  {
   "cell_type": "code",
   "execution_count": null,
   "id": "98688042-2ba2-44dd-8a84-f1caaaef6e93",
   "metadata": {},
   "outputs": [],
   "source": [
    "file_pattern = os.path.join(f_PCP, f\"*.txt\")\n",
    "file_list = glob.glob(file_pattern)\n",
    "\n",
    "P_by_model = []\n",
    "\n",
    "for j, file in enumerate(file_list):\n",
    "    P_by_model.append(np.loadtxt(file))\n",
    "    \n",
    "np.shape(P_by_model)"
   ]
  },
  {
   "cell_type": "code",
   "execution_count": null,
   "id": "3c7df0b4-7adc-404f-9aad-22a9981418ac",
   "metadata": {},
   "outputs": [],
   "source": [
    "P_by_basin_all = {b: {} for b in basin_name_list}\n",
    "\n",
    "for k in range(len(file_list)):\n",
    "    for i,b in enumerate(basin_name_list):\n",
    "        P_by_basin_all[b][k] = P_by_model[k][:,i]"
   ]
  },
  {
   "cell_type": "code",
   "execution_count": null,
   "id": "c11483b2-78c9-4d3a-9eef-8f5169a9db09",
   "metadata": {},
   "outputs": [],
   "source": [
    "P_by_basin_all.keys()"
   ]
  },
  {
   "cell_type": "markdown",
   "id": "8ffa16b8-a0a4-49df-94f8-18b28eec0287",
   "metadata": {},
   "source": [
    "## Plot all basins against a baseline"
   ]
  },
  {
   "cell_type": "code",
   "execution_count": null,
   "id": "4cf54f99-15de-4d3f-8c01-3054539e0e01",
   "metadata": {},
   "outputs": [],
   "source": [
    "rng = pd.date_range('2000-01-01', periods=1212, freq='M')"
   ]
  },
  {
   "cell_type": "code",
   "execution_count": null,
   "id": "1787537d-4519-4909-98e3-6ea2968f3146",
   "metadata": {},
   "outputs": [],
   "source": [
    "fig, axs = plt.subplots(15,5, figsize=(13,16), sharex=True)\n",
    "for j,b in enumerate(basin_name_list):\n",
    "    ax = axs.ravel()[j]\n",
    "    ax.axhline(0, color='k', ls=':', lw=0.5)\n",
    "    \n",
    "    basin_label = ' '.join([s.capitalize() for s in b.split(' ')]) ## manage multi-word basin names\n",
    "    \n",
    "    for m in range(len(file_list)): ## split by model run\n",
    "        this_precip = pd.Series(P_by_basin_all[b][m])\n",
    "        this_precip.index=rng\n",
    "\n",
    "        this_precip_dailyavg = this_precip / this_precip.index.days_in_month\n",
    "        ## handy days_in_month utility\n",
    "        this_precip_mmday = this_precip_dailyavg*1000 / (TotalBasinAreas.loc[b].squeeze()*1e6)\n",
    "\n",
    "        hist_mean = this_precip_mmday['2000-01-31':'2020-12-31'].resample('A').mean().mean()\n",
    "        ax.plot((this_precip_mmday.resample('A').mean()-hist_mean).rolling(window=15).mean()/(hist_mean*0.01), ##\n",
    "               color='grey', alpha=0.5) ## make these a uniform color to plot glacier sub-ensemble on top\n",
    "\n",
    "    ax.set(xlim=(datetime.datetime(1999,12,31),datetime.datetime(2100,12,31)),\n",
    "          ylim=[-20,20])\n",
    "    ax.text(0.1, 0.8, basin_label, transform=ax.transAxes)\n",
    "\n",
    "axs[0,4].legend(bbox_to_anchor=(1.05, 1.0), ncol=1)\n",
    "axs[14,2].set_xlabel('Year', fontsize=14) ## use a direct axis label so that suptitle is not so far away from the axes\n",
    "for k in range(len(axs[14])):\n",
    "    axs[14,k].set(xticks=pd.date_range(datetime.datetime(2000,1,1), periods=6, freq='20YS').tolist(),\n",
    "                  xticklabels=['2000','','','','', '2100'])\n",
    "    axs[14,k].tick_params(axis='x', rotation=45)\n",
    "\n",
    "# fig.supxlabel('Month', fontsize=14)\n",
    "fig.suptitle('Basin precip % change (15-year rolling mean, rel. to 2000-2020) \\n from GCMs used to force glacier models',\n",
    "            fontsize=14);\n",
    "# fig.supxlabel('Year', fontsize=14);\n",
    "fig.supylabel('Basin precip change [% 2000-2020]', fontsize=14);\n",
    "plt.tight_layout()"
   ]
  },
  {
   "cell_type": "markdown",
   "id": "cbcce386-9a79-49c3-8d7c-ca7c7b5e56f7",
   "metadata": {},
   "source": [
    "## Highlight the models included in glacier model forcing"
   ]
  },
  {
   "cell_type": "code",
   "execution_count": null,
   "id": "25d51435-b4e5-40a8-a303-ce7b4fd37e0a",
   "metadata": {},
   "outputs": [],
   "source": [
    "f_PCP_gems = f_PCP+'GlacierModel/'\n",
    "\n",
    "file_pattern_gems = os.path.join(f_PCP_gems, f\"*.txt\")\n",
    "file_list_gems = glob.glob(file_pattern_gems)\n",
    "\n",
    "P_by_model_gems = []\n",
    "\n",
    "for j, file in enumerate(file_list_gems):\n",
    "    P_by_model_gems.append(np.loadtxt(file))\n",
    "    \n",
    "np.shape(P_by_model_gems)"
   ]
  },
  {
   "cell_type": "code",
   "execution_count": null,
   "id": "bad50d8b-6cf0-4d32-9215-774542c66b06",
   "metadata": {},
   "outputs": [],
   "source": [
    "P_by_basin_gems = {b: {} for b in basin_name_list}\n",
    "\n",
    "for k in range(len(file_list_gems)):\n",
    "    for i,b in enumerate(basin_name_list):\n",
    "        P_by_basin_gems[b][k] = P_by_model_gems[k][:,i]"
   ]
  },
  {
   "cell_type": "code",
   "execution_count": null,
   "id": "58c71763-9538-4771-bbae-9eeba81cc780",
   "metadata": {},
   "outputs": [],
   "source": [
    "import matplotlib.patches as mpatches\n",
    "\n",
    "\n",
    "fig, axs = plt.subplots(15,5, figsize=(13,16), sharex=True)\n",
    "for j,b in enumerate(basin_name_list):\n",
    "    ax = axs.ravel()[j]\n",
    "    ax.axhline(0, color='k', ls=':', lw=0.5)\n",
    "    \n",
    "    basin_label = ' '.join([s.capitalize() for s in b.split(' ')]) ## manage multi-word basin names\n",
    "    \n",
    "    for m in range(len(file_list)): ## split by model run\n",
    "        this_precip = pd.Series(P_by_basin_all[b][m])\n",
    "        this_precip.index=rng\n",
    "\n",
    "        this_precip_dailyavg = this_precip / this_precip.index.days_in_month\n",
    "        ## handy days_in_month utility\n",
    "        this_precip_mmday = this_precip_dailyavg*1000 / (TotalBasinAreas.loc[b].squeeze()*1e6)\n",
    "\n",
    "        hist_mean = this_precip_mmday['2000-01-31':'2020-12-31'].resample('A').mean().mean()\n",
    "        ax.plot((this_precip_mmday.resample('A').mean()-hist_mean).rolling(window=15).mean()/(hist_mean*0.01), ##\n",
    "               color='grey', alpha=0.5) ## make these a uniform color to plot glacier sub-ensemble on top\n",
    "    \n",
    "    for n in range(len(file_list_gems)): ## highlight the ones used for GEM forcing\n",
    "        this_precip = pd.Series(P_by_basin_gems[b][n])\n",
    "        this_precip.index=rng\n",
    "\n",
    "        this_precip_dailyavg = this_precip / this_precip.index.days_in_month\n",
    "        ## handy days_in_month utility\n",
    "        this_precip_mmday = this_precip_dailyavg*1000 / (TotalBasinAreas.loc[b].squeeze()*1e6)\n",
    "\n",
    "        hist_mean = this_precip_mmday['2000-01-31':'2020-12-31'].resample('A').mean().mean()\n",
    "        ax.plot((this_precip_mmday.resample('A').mean()-hist_mean).rolling(window=15).mean()/(hist_mean*0.01), ##\n",
    "               color='blue', alpha=0.5) ## make these a uniform color to plot glacier sub-ensemble on top\n",
    "\n",
    "    ax.set(xlim=(datetime.datetime(1999,12,31),datetime.datetime(2100,12,31)),\n",
    "          ylim=[-20,30])\n",
    "    ax.text(0.05, 0.8, basin_label, transform=ax.transAxes)\n",
    "\n",
    "## legend\n",
    "patches=[mpatches.Patch(color='k', label='CMIP6 ensemble'),\n",
    "        mpatches.Patch(color='blue', label='Used to force GEMs')]\n",
    "axs[0,4].legend(handles=patches, bbox_to_anchor=(1.05, 1.0), ncol=1)\n",
    "\n",
    "axs[14,2].set_xlabel('Year', fontsize=14) ## use a direct axis label so that suptitle is not so far away from the axes\n",
    "for k in range(len(axs[14])):\n",
    "    axs[14,k].set(xticks=pd.date_range(datetime.datetime(2000,1,1), periods=6, freq='20YS').tolist(),\n",
    "                  xticklabels=['2000','','','','', '2100'])\n",
    "    axs[14,k].tick_params(axis='x', rotation=45)\n",
    "\n",
    "# fig.supxlabel('Month', fontsize=14)\n",
    "fig.suptitle('Basin precip % change (15-year rolling mean, rel. to 2000-2020) \\n from GCMs used to force glacier models',\n",
    "            fontsize=14);\n",
    "# fig.supxlabel('Year', fontsize=14);\n",
    "fig.supylabel('Basin precip change [% 2000-2020]', fontsize=14);\n",
    "plt.tight_layout()"
   ]
  },
  {
   "cell_type": "markdown",
   "id": "5a7caab1-7399-4039-b3a6-4eb18d3aa6ba",
   "metadata": {},
   "source": [
    "---\n",
    "## Plot temperature in a similar way"
   ]
  },
  {
   "cell_type": "code",
   "execution_count": null,
   "id": "3697e603-8c13-4c59-a5cc-2b60ec8033af",
   "metadata": {},
   "outputs": [],
   "source": [
    "file_pattern_T = os.path.join(f_T, f\"*.txt\")\n",
    "file_list_T = glob.glob(file_pattern_T)\n",
    "\n",
    "T_by_model = []\n",
    "\n",
    "for j, file in enumerate(file_list_T):\n",
    "    T_by_model.append(np.loadtxt(file))\n",
    "    \n",
    "# np.shape(T_by_model)\n",
    "\n",
    "f_T_gems = f_T+'GlacierModel/'\n",
    "\n",
    "file_pattern_T_gems = os.path.join(f_T_gems, f\"*.txt\")\n",
    "file_list_T_gems = glob.glob(file_pattern_T_gems)\n",
    "\n",
    "T_by_model_gems = []\n",
    "\n",
    "for j, file in enumerate(file_list_T_gems):\n",
    "    T_by_model_gems.append(np.loadtxt(file))"
   ]
  },
  {
   "cell_type": "code",
   "execution_count": null,
   "id": "ada319f9-4fd5-41f7-b250-f4fa6459ff4e",
   "metadata": {},
   "outputs": [],
   "source": [
    "T_by_basin_all = {b: {} for b in basin_name_list}\n",
    "T_by_basin_gems = {b: {} for b in basin_name_list}\n",
    "\n",
    "for k in range(len(file_list_T)):\n",
    "    for i,b in enumerate(basin_name_list):\n",
    "        T_by_basin_all[b][k] = T_by_model[k][:,i]\n",
    "\n",
    "for p in range(len(file_list_T_gems)):\n",
    "    for j,b in enumerate(basin_name_list):\n",
    "        T_by_basin_gems[b][p] = T_by_model_gems[p][:,j]"
   ]
  },
  {
   "cell_type": "code",
   "execution_count": null,
   "id": "a875559a-b563-47fc-b412-defe81502998",
   "metadata": {},
   "outputs": [],
   "source": [
    "fig, axs = plt.subplots(15,5, figsize=(13,16), sharex=True)\n",
    "for j,b in enumerate(basin_name_list):\n",
    "    ax = axs.ravel()[j]\n",
    "    ax.axhline(0, color='k', ls=':', lw=0.5)\n",
    "    \n",
    "    basin_label = ' '.join([s.capitalize() for s in b.split(' ')]) ## manage multi-word basin names\n",
    "    \n",
    "    for m in range(len(file_list_T)): ## split by model run\n",
    "        this_temp = pd.Series(T_by_basin_all[b][m])\n",
    "        this_temp.index=rng\n",
    "\n",
    "        # this_temp_dailyavg = this_temp / this_temp.index.days_in_month\n",
    "        # ## handy days_in_month utility\n",
    "        # this_temp_mmday = this_temp_dailyavg*1000 / (TotalBasinAreas.loc[b].squeeze()*1e6)\n",
    "\n",
    "        hist_mean = this_temp['2000-01-31':'2020-12-31'].resample('A').mean().mean()\n",
    "        ax.plot((this_temp.resample('A').mean()-hist_mean).rolling(window=15).mean(), ##\n",
    "               color='grey', alpha=0.5) ## make these a uniform color to plot glacier sub-ensemble on top\n",
    "    \n",
    "    for n in range(len(file_list_T_gems)): ## highlight the ones used for GEM forcing\n",
    "        this_temp = pd.Series(T_by_basin_gems[b][n])\n",
    "        this_temp.index=rng\n",
    "\n",
    "        # this_temp_dailyavg = this_temp / this_temp.index.days_in_month\n",
    "        # ## handy days_in_month utility\n",
    "        # this_temp_mmday = this_temp_dailyavg*1000 / (TotalBasinAreas.loc[b].squeeze()*1e6)\n",
    "\n",
    "        hist_mean = this_temp['2000-01-31':'2020-12-31'].resample('A').mean().mean()\n",
    "        ax.plot((this_temp.resample('A').mean()-hist_mean).rolling(window=15).mean(), ##\n",
    "               color='blue', alpha=0.5) ## make these a uniform color to plot glacier sub-ensemble on top\n",
    "\n",
    "    ax.set(xlim=(datetime.datetime(1999,12,31),datetime.datetime(2100,12,31)),\n",
    "          ylim=[-1,5] ## this was for percent change. Revise\n",
    "          )\n",
    "    ax.text(0.05, 0.8, basin_label, transform=ax.transAxes)\n",
    "\n",
    "## legend\n",
    "patches=[mpatches.Patch(color='k', label='CMIP6 ensemble'),\n",
    "        mpatches.Patch(color='blue', label='Used to force GEMs')]\n",
    "axs[0,4].legend(handles=patches, bbox_to_anchor=(1.05, 1.0), ncol=1)\n",
    "\n",
    "axs[14,2].set_xlabel('Year', fontsize=14) ## use a direct axis label so that suptitle is not so far away from the axes\n",
    "for k in range(len(axs[14])):\n",
    "    axs[14,k].set(xticks=pd.date_range(datetime.datetime(2000,1,1), periods=6, freq='20YS').tolist(),\n",
    "                  xticklabels=['2000','','','','', '2100'])\n",
    "    axs[14,k].tick_params(axis='x', rotation=45)\n",
    "\n",
    "# fig.supxlabel('Month', fontsize=14)\n",
    "fig.suptitle('Basin temp anomaly (15-year rolling mean, rel. to 2000-2020) \\n from GCMs used to force glacier models',\n",
    "            fontsize=14);\n",
    "# fig.supxlabel('Year', fontsize=14);\n",
    "fig.supylabel('Basin temp anomaly [K]', fontsize=14);\n",
    "plt.tight_layout()"
   ]
  },
  {
   "cell_type": "code",
   "execution_count": null,
   "id": "801d00aa-fbba-4acd-abda-6be585aaed33",
   "metadata": {},
   "outputs": [],
   "source": []
  }
 ],
 "metadata": {
  "kernelspec": {
   "display_name": "Python 3 (ipykernel)",
   "language": "python",
   "name": "python3"
  },
  "language_info": {
   "codemirror_mode": {
    "name": "ipython",
    "version": 3
   },
   "file_extension": ".py",
   "mimetype": "text/x-python",
   "name": "python",
   "nbconvert_exporter": "python",
   "pygments_lexer": "ipython3",
   "version": "3.13.1"
  }
 },
 "nbformat": 4,
 "nbformat_minor": 5
}
